{
 "cells": [
  {
   "cell_type": "code",
   "execution_count": 1,
   "metadata": {},
   "outputs": [],
   "source": [
    "import matplotlib.pyplot as plt\n",
    "import numpy as np\n",
    "\n",
    "# 初始算法开始之前的坐标 \n",
    "# cur_x 和 cur_y \n",
    "cur_x = 6\n",
    "cur_y = (cur_x-1)**2 + 1\n",
    "# 设置学习率 eta 为 0.05\n",
    "eta = 0.1\n",
    "# 变量 iter 用于存储迭代次数\n",
    "# 这次我们迭代 1000 次\n",
    "# 所以给它赋值 1000\n",
    "iter = 1000\n",
    "# 变量 cur_df 用于存储\n",
    "# 当前位置的导数\n",
    "# 一开始我给它赋值为 None\n",
    "# 每一轮循环的时候为它更新值\n",
    "cur_df = None\n",
    "\n",
    "# all_x 用于存储\n",
    "# 算法进行时所有点的横坐标\n",
    "all_x = []\n",
    "# all_y 用于存储\n",
    "# 算法进行时所有点的纵坐标\n",
    "all_y = []\n",
    "\n",
    "# 把最一开始的坐标存储到\n",
    "# all_x 和 all_y 中\n",
    "all_x.append(cur_x)\n",
    "all_y.append(cur_y)"
   ]
  },
  {
   "cell_type": "code",
   "execution_count": 2,
   "metadata": {},
   "outputs": [],
   "source": [
    "# 循环结束也就意味着算法的结束\n",
    "for i in range(iter):\n",
    "    # 每一次迭代之前先计算\n",
    "    # 当前位置的梯度 cur_df\n",
    "    # cur 是英文单词 current \n",
    "    cur_df = 2*cur_x - 2\n",
    "    # 更新 cur_x 到下一个位置\n",
    "    cur_x = cur_x - eta*cur_df\n",
    "    # 更新下一个 cur_x 对应的 cur_y\n",
    "    cur_y = (cur_x-1)**2 + 1\n",
    "\n",
    "    # 其实 cur_y 并没有起到实际的计算作用\n",
    "    # 在这里计算 cur_y 只是为了将每一次的\n",
    "    # 点的坐标存储到 all_x 和 all_y 中\n",
    "    # all_x 存储了二维平面上所有点的横坐标\n",
    "    # all_y 存储了二维平面上所欲点的纵坐标\n",
    "    # 使用 list 的 append 方法添加元素\n",
    "    all_x.append(cur_x)\n",
    "    all_y.append(cur_y)"
   ]
  },
  {
   "cell_type": "code",
   "execution_count": 3,
   "metadata": {},
   "outputs": [
    {
     "data": {
      "image/png": "[encoded data removed]",
      "text/plain": [
       "<Figure size 432x288 with 1 Axes>"
      ]
     },
     "metadata": {
      "needs_background": "light"
     },
     "output_type": "display_data"
    }
   ],
   "source": [
    "# 这里的 x, y 值为了绘制二次函数\n",
    "# 的那根曲线用的，和算法没有关系\n",
    "# linspace 将会从区间 [-5, 7] 中\n",
    "# 等距离分割出 100 个点并返回一个\n",
    "# np.array 类型的对象给 x\n",
    "x = np.linspace(-5, 7, 100)\n",
    "# 计算出 x 中每一个横坐标对应的纵坐标\n",
    "y = (x-1)**2 + 1\n",
    "# plot 函数会把传入的 x, y\n",
    "# 组成的每一个点依次连接成一个平滑的曲线\n",
    "# 这样就是我们看到的二次函数的曲线了\n",
    "plt.plot(x, y)\n",
    "# axis 函数用来指定坐标系的横轴纵轴的范围\n",
    "# 这样就表示了 \n",
    "# 横轴为 [-7, 9]\n",
    "# 纵轴为 [0, 50]\n",
    "plt.axis([-7, 9, 0, 50])\n",
    "# scatter 函数是用来绘制散点图的\n",
    "# scatter 和 plot 函数不同\n",
    "# scatter 并不会将每个点依次连接\n",
    "# 而是直接将它们以点的形式绘制出来\n",
    "plt.scatter(np.array(all_x), np.array(all_y), color='red')\n",
    "plt.show()"
   ]
  }
 ],
 "metadata": {
  "kernelspec": {
   "display_name": "Python 3",
   "language": "python",
   "name": "python3"
  },
  "language_info": {
   "codemirror_mode": {
    "name": "ipython",
    "version": 3
   },
   "file_extension": ".py",
   "mimetype": "text/x-python",
   "name": "python",
   "nbconvert_exporter": "python",
   "pygments_lexer": "ipython3",
   "version": "3.8.5"
  }
 },
 "nbformat": 4,
 "nbformat_minor": 4
}
